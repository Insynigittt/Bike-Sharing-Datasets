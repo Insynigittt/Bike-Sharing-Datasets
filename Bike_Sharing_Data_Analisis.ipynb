{
  "cells": [
    {
      "cell_type": "markdown",
      "metadata": {
        "id": "H9wADwK78DCz"
      },
      "source": [
        "# Proyek Analisis Data: [Bike Sharing Datasets]\n",
        "- **Nama:** [Inggit Insani]\n",
        "- **Email:** [insnyninggittt11@gmail.com]\n",
        "- **ID Dicoding:** [insyniigittt]"
      ]
    },
    {
      "cell_type": "markdown",
      "source": [],
      "metadata": {
        "id": "QUtX-PbDLqEj"
      }
    },
    {
      "cell_type": "markdown",
      "metadata": {
        "id": "eE0raob58DC0"
      },
      "source": [
        "## Menentukan Pertanyaan Bisnis\n",
        "\n"
      ]
    },
    {
      "cell_type": "markdown",
      "source": [
        "Streamit simple dashboard: [**Bike Sharing Data Analysis Dashboard**](https://grzxzyvmrtmckrc9tjzcxq.streamlit.app/)"
      ],
      "metadata": {
        "id": "nIZNONtrKtFh"
      }
    },
    {
      "cell_type": "markdown",
      "metadata": {
        "id": "GmQeQ5YF8DC0"
      },
      "source": [
        "Kumpulan data ini berisi data berbagi sepeda dari tahun 2011 dan 2012, termasuk statistik penggunaan per jam dan harian.\n",
        "\n",
        "Catatan Tambahan Dataset :\n",
        "\n",
        "- **'temp'** adalah suhu yang dinormalkan yang dihitung menggunakan skala. Dalam kumpulan data ini, 0 mewakili suhu terendah, dan 1 mewakili suhu maksimum. Misalnya, jika 'temp' adalah 0,5, artinya suhu berada di tengah-tengah antara nilai minimum dan maksimum.\n",
        "- **'atemp'** merupakan suhu yang dirasakan oleh manusia (dipengaruhi oleh suhu, kelembapan, dan angin), sehingga nyaman untuk beraktivitas. Dalam kumpulan data ini, suhu diukur pada skala 0-1.\n",
        "Karena informasi pada kedua berkas tersebut relatif mirip dan hanya dibedakan oleh variabel 'hr' di hour.csv, maka diputuskan untuk menggunakan hour.csvdata tersebut karena berisi catatan yang lebih rinci.\n",
        "# Mendefinisikan Pertanyaan Bisnis\n",
        "1. Apa perbedaan pola penyewaan sepeda antara pengguna umum (kasual) dan pengguna terdaftar?\n",
        "2. Pada jam berapakah dalam sehari konsentrasi penyewaan sepeda tertinggi diamati baik untuk pengguna umum maupun pengguna terdaftar?\n",
        "3. Dapatkah kami mengidentifikasi anomali atau peristiwa besar (seperti cuaca ekstrem atau hari libur nasional) berdasarkan lonjakan atau penurunan tiba-tiba dalam jumlah total penyewaan sepeda (cnt)?"
      ]
    },
    {
      "cell_type": "markdown",
      "metadata": {
        "id": "H-z4QGlO8DC1"
      },
      "source": [
        "## Impor Semua Packages/Library yang Digunakan"
      ]
    },
    {
      "cell_type": "code",
      "execution_count": null,
      "metadata": {
        "id": "FVYwaObI8DC1"
      },
      "outputs": [],
      "source": [
        "# Impor library yang akan dibutuhkan\n",
        "import pandas as pd\n",
        "import zipfile\n",
        "import os\n",
        "import requests\n",
        "import numpy as np\n",
        "import matplotlib.pyplot as plt\n",
        "import seaborn as sns"
      ]
    },
    {
      "cell_type": "markdown",
      "metadata": {
        "id": "h_Sh51Xy8DC1"
      },
      "source": [
        "## Data Wrangling"
      ]
    },
    {
      "cell_type": "markdown",
      "metadata": {
        "id": "sXU2GBYu8DC1"
      },
      "source": [
        "### Gathering Data"
      ]
    },
    {
      "cell_type": "code",
      "source": [
        "import kagglehub\n",
        "import pandas as pd\n",
        "import os\n",
        "\n",
        "# Unduh dataset dan dapatkan jalur ke direktori\n",
        "lakshmi25npathi_bike_sharing_dataset_path = kagglehub.dataset_download('lakshmi25npathi/bike-sharing-dataset')\n",
        "\n",
        "print('Data source import complete.')\n",
        "\n",
        "# Buat jalur ke file hour.csv menggunakan direktori yg diunduh\n",
        "hour_csv_path = os.path.join(lakshmi25npathi_bike_sharing_dataset_path, 'hour.csv')\n",
        "day_csv_path = os.path.join(lakshmi25npathi_bike_sharing_dataset_path, 'day.csv')\n",
        "\n",
        "\n",
        "# Verifikasi keberadaan file\n",
        "if os.path.exists(hour_csv_path) and os.path.exists(day_csv_path):\n",
        "    print(\"Dataset files are ready to use!\")\n",
        "else:\n",
        "    print(\"Dataset files are missing. Please check the input directory.\")\n",
        "\n",
        "# Baca file CSV menggunakan pandas\n",
        "df_hour_data = pd.read_csv(hour_csv_path, delimiter=\",\")\n",
        "\n",
        "# Menampilkan beberapa baris pertama dari setiap kerangka data\n",
        "print(\"\\nHour Data:\")\n",
        "print(df_hour_data.head())"
      ],
      "metadata": {
        "id": "g6AsXs2YJb_M"
      },
      "execution_count": null,
      "outputs": []
    },
    {
      "cell_type": "markdown",
      "metadata": {
        "id": "FHSiqaZp8DC1"
      },
      "source": [
        "### Assessing Data"
      ]
    },
    {
      "cell_type": "code",
      "source": [
        "# Periksa tipe data\n",
        "df_hour_data.info()"
      ],
      "metadata": {
        "id": "ax-3tEjc9Cj1"
      },
      "execution_count": null,
      "outputs": []
    },
    {
      "cell_type": "markdown",
      "source": [
        "### Memeriksa apakah data ordinal dan nominal memiliki nilai yang sesuai dengan instruksi.\n",
        "---\n",
        "\n",
        "Catatan: fungsi range() menyertakan nilai awal tetapi tidak menyertakan nilai akhir"
      ],
      "metadata": {
        "id": "4IhZubnwtf3e"
      }
    },
    {
      "cell_type": "code",
      "source": [
        "valid_ranges = {\n",
        "    'season': range(1, 5),         # Seasons: 1 to 4\n",
        "    'weathersit': range(1, 5),     # Weather situations: 1 to 4\n",
        "    'weekday': range(0, 7),        # Weekday: 0 (Sunday) to 6 (Saturday)\n",
        "    'yr': [0, 1],                  # Year: 0 (2011), 1 (2012)\n",
        "    'mnth': range(1, 13),          # Months: 1 to 12\n",
        "    'hr' : range(0,24),            # Hour: 24 hour\n",
        "    'holiday': [0, 1],             # Holiday: 0 (No), 1 (Yes)\n",
        "    'workingday': [0, 1],          # Working day: 0 (No), 1 (Yes)\n",
        "}\n",
        "\n",
        "# Daftar kumpulan data yang perlu diperiksa\n",
        "datasets = {\n",
        "    \"df_hour_data\": df_hour_data\n",
        "}\n",
        "\n",
        "# Ulangi setiap kumpulan data\n",
        "for dataset_name, dataset in datasets.items():\n",
        "    print(f\"\\nChecking dataset: {dataset_name}\")\n",
        "\n",
        "    # Inisialisasi laporan untuk nilai yang tidak valid\n",
        "    invalid_values_report = {}\n",
        "\n",
        "    # Ulangi setiap variabel dan periksa nilai yang tidak valid\n",
        "    for column, valid_range in valid_ranges.items():\n",
        "        if column in dataset.columns:\n",
        "            # Periksa nilai yang tidak valid\n",
        "            invalid_rows = dataset[~dataset[column].isin(valid_range)]\n",
        "            if not invalid_rows.empty:\n",
        "                invalid_values_report[column] = invalid_rows\n",
        "\n",
        "    # Menampilkan hasil untuk dataset saat ini\n",
        "    if not invalid_values_report:\n",
        "        print(\"Semua variabel ordinal dan nominal memiliki data yang valid.\")\n",
        "    else:\n",
        "        print(\"Variabel berikut memiliki data yang tidak valid:\")\n",
        "        for column, invalid_rows in invalid_values_report.items():\n",
        "            print(f\"Variable '{column}' Memiliki nilai tidak valid di baris berikut:\")\n",
        "            print(invalid_rows)"
      ],
      "metadata": {
        "trusted": true,
        "execution": {
          "iopub.status.busy": "2024-12-22T05:43:00.717958Z",
          "iopub.execute_input": "2024-12-22T05:43:00.718378Z",
          "iopub.status.idle": "2024-12-22T05:43:00.732785Z",
          "shell.execute_reply.started": "2024-12-22T05:43:00.718336Z",
          "shell.execute_reply": "2024-12-22T05:43:00.731812Z"
        },
        "id": "wHnctJuWtlea"
      },
      "outputs": [],
      "execution_count": null
    },
    {
      "cell_type": "markdown",
      "source": [
        "### Periksa nilai negatif untuk casual dan registered\n",
        "Keduanya tidak boleh mengandung nilai negatif"
      ],
      "metadata": {
        "id": "hFzmcsZMjBy2"
      }
    },
    {
      "cell_type": "code",
      "source": [
        "casual_registered_columns = ['casual', 'registered']\n",
        "invalid_casual_registered = df_hour_data[\n",
        "    (df_hour_data['casual'] < 0) | (df_hour_data['registered'] < 0)\n",
        "]\n",
        "\n",
        "if not invalid_casual_registered.empty:\n",
        "    print(\"\\nNilai tidak vslid dalam kolom casual atau registered (nilai negatif):\")\n",
        "    print(invalid_casual_registered)\n",
        "else:\n",
        "    print(\"\\nTidak ada nilai tidak valid di kolom casual atau registered.\")"
      ],
      "metadata": {
        "trusted": true,
        "execution": {
          "iopub.status.busy": "2024-12-22T05:43:00.733756Z",
          "iopub.execute_input": "2024-12-22T05:43:00.734096Z",
          "iopub.status.idle": "2024-12-22T05:43:00.741883Z",
          "shell.execute_reply.started": "2024-12-22T05:43:00.734069Z",
          "shell.execute_reply": "2024-12-22T05:43:00.740503Z"
        },
        "id": "AWFiqBlCjBy3"
      },
      "outputs": [],
      "execution_count": null
    },
    {
      "cell_type": "markdown",
      "source": [
        "### Periksa apakah kolom cnt sama dengan (casual + registered)"
      ],
      "metadata": {
        "id": "Lh3FQMnVjBy3"
      }
    },
    {
      "cell_type": "code",
      "source": [
        "def check_discrepancies(df):\n",
        "    discrepancy = df[df['cnt'] != (df['casual'] + df['registered'])]\n",
        "\n",
        "    if not discrepancy.empty:\n",
        "        print(f\"\\nPerbedaan ditemukan pada baris {len(discrepancy)} rows:\")\n",
        "        print(discrepancy)\n",
        "    else:\n",
        "        print(\"\\nTidak ada perbedaan : cnt sama dengan kolom casual + registered untuk semua baris.\")\n",
        "\n",
        "# Periksa apakah cnt sama dengan casual + registered\n",
        "check_discrepancies(df_hour_data)"
      ],
      "metadata": {
        "trusted": true,
        "execution": {
          "iopub.status.busy": "2024-12-22T05:43:00.743117Z",
          "iopub.execute_input": "2024-12-22T05:43:00.743509Z",
          "iopub.status.idle": "2024-12-22T05:43:00.749898Z",
          "shell.execute_reply.started": "2024-12-22T05:43:00.743477Z",
          "shell.execute_reply": "2024-12-22T05:43:00.748677Z"
        },
        "id": "CJKSVnjfjBy3"
      },
      "outputs": [],
      "execution_count": null
    },
    {
      "cell_type": "markdown",
      "source": [
        "**Insight:**\n",
        "- Tidak ada nilai nol dalam data.\n",
        "- Terdapat kesalahan tipe data untuk 'dteday', yang seharusnya memiliki tipe data 'date'.\n",
        "- Tidak ada nilai yang tidak valid ditemukan untuk data ordinal dan nominal.\n",
        "- Tidak ada nilai negatif untuk kasual, terdaftar, dan cnt.\n",
        "Nilai cnt benar (kasual + terdaftar)."
      ],
      "metadata": {
        "id": "7dtxhAPrkhPL"
      }
    },
    {
      "cell_type": "code",
      "source": [
        "summary = df_hour_data.describe()\n",
        "print(summary)"
      ],
      "metadata": {
        "id": "OorrnDtpwIWg"
      },
      "execution_count": null,
      "outputs": []
    },
    {
      "cell_type": "markdown",
      "source": [
        "***Insight:***\n",
        "\n",
        "- Setiap kolom berisi 17.379 catatan, artinya tidak ada nilai yang hilang.\n",
        "- Kolom season, yr, mnth, dan hrtampak konsisten berdasarkan jumlah rekaman. Plot distribusi frekuensi diperlukan untuk analisis yang lebih mendalam.\n",
        "- Kolom holiday(biner [0,1]) dengan nilai rata-rata 0,02 menunjukkan sejumlah kecil hari libur. Nilai 1 (benar) menunjukkan hari libur.\n",
        "- Kolom weekday(Minggu-Sabtu, 0-6) memiliki rata-rata 3. Plot distribusi frekuensi diperlukan untuk analisis lebih lanjut.\n",
        "- Kolom workingday(biner [0,1]) dengan nilai rata-rata 0,6 menunjukkan bahwa sebagian besar hari adalah hari kerja. Nilai 1 (benar) menunjukkan hari kerja.\n",
        "- Kolom ini weathersitmenggambarkan kondisi cuaca, berkisar antara 1-4. Rata-rata 1,4 menunjukkan kondisi cuaca yang sebagian besar cerah atau berawan.\n",
        "- Kolom tempdan atempmemiliki nilai rata-rata 0,4, yang menunjukkan kondisi cuaca secara umum berada di kisaran tengah antara minimum (0) dan maksimum (1).\n",
        "- Kolom humiditydengan nilai rata-rata 0,6 menunjukkan kelembapan sedang. Nilai 0 menunjukkan kondisi kering, sedangkan 1 menunjukkan kejenuhan penuh.\n",
        "- Kolom windspeed, dengan minimum 0 dan maksimum 0,8, memiliki rata-rata mendekati 0,2, yang menunjukkan kecepatan angin umumnya rendah.\n",
        "***Pengguna Biasa:** Kemungkinan distribusinya condong ke kanan, karena persentil Q1 adalah 4, jauh lebih kecil daripada Q3, yaitu 48. Deviasi standar (49) yang lebih besar daripada rata-rata (35) menunjukkan penyebaran data yang luas.\n",
        "***Pengguna Terdaftar:** Kemungkinan distribusinya condong ke kanan, karena persentil Q1 adalah 34, jauh lebih kecil daripada Q3, yaitu 220. Deviasi standar (151) yang mendekati rata -rata (153) menunjukkan variasi data mendekati rata-rata.\n",
        "***Total sewa (cnt):** Dispersi data sedang, karena deviasi standar (181) lebih kecil dan tidak jauh dari rata-rata (189). Nilai minimum 1 dan maksimum 977 menunjukkan rentang yang luas dan potensi outlier. Persentil Q1 adalah 40, jauh lebih kecil dari Q3, yaitu 281, yang menunjukkan kemungkinan distribusi yang condong ke kanan.\n",
        "- Penting untuk dicatat bahwa total persewaan ( cnt) adalah jumlah pengguna biasa dan pengguna terdaftar ."
      ],
      "metadata": {
        "id": "pZFW5sIdw1Ph"
      }
    },
    {
      "cell_type": "markdown",
      "metadata": {
        "id": "EhN5R4hr8DC1"
      },
      "source": [
        "### Cleaning Data"
      ]
    },
    {
      "cell_type": "markdown",
      "source": [
        "**Cleaning Data**\n",
        "Tahapan : **(1) Define, (2) Code, (3) Verify**"
      ],
      "metadata": {
        "id": "m2XO2N3WjBy5"
      }
    },
    {
      "cell_type": "code",
      "source": [
        "# (1) Define\n",
        "# Kolom 'dteday' bertipe objek, jadi perlu diubah ke 'datetime'\n",
        "\n",
        "# (2) Code\n",
        "# Ubah 'dteday' menjadi datetime\n",
        "df_hour_data['dteday'] = pd.to_datetime(df_hour_data['dteday'])\n",
        "\n",
        "# (3) Verify\n",
        "df_hour_data.info()"
      ],
      "metadata": {
        "trusted": true,
        "execution": {
          "iopub.status.busy": "2024-12-22T05:43:00.800885Z",
          "iopub.execute_input": "2024-12-22T05:43:00.80117Z",
          "iopub.status.idle": "2024-12-22T05:43:00.817737Z",
          "shell.execute_reply.started": "2024-12-22T05:43:00.801145Z",
          "shell.execute_reply": "2024-12-22T05:43:00.816591Z"
        },
        "id": "ZSHF5FNHjBy6"
      },
      "outputs": [],
      "execution_count": null
    },
    {
      "cell_type": "markdown",
      "metadata": {
        "id": "gp-Y6wU38DC1"
      },
      "source": [
        "## Exploratory Data Analysis (EDA)"
      ]
    },
    {
      "cell_type": "markdown",
      "source": [
        "- Buat visualisasi distribusi data untuk pengguna biasa dan terdaftar.\n",
        "- Buat visualisasi kotak plot untuk data kasual dan terdaftar untuk mengidentifikasi outlier.\n",
        "- Gunakan metode IQR untuk menangani outlier apa pun.\n",
        "- Buat visualisasi kotak plot untuk data kasual dan terdaftar setelah menangani outlier.\n",
        "- Buat visualisasi distribusi data untuk pengguna biasa dan terdaftar setelah menangani outlier."
      ],
      "metadata": {
        "id": "AbUJt3Vsz6QM"
      }
    },
    {
      "cell_type": "markdown",
      "source": [
        "***1. Distribusi data kasual dan terdaftar**"
      ],
      "metadata": {
        "id": "pYa__nTR0KpV"
      }
    },
    {
      "cell_type": "code",
      "source": [
        "sns.histplot(df_hour_data['casual'], kde=True, bins=30, color='blue', label='Casual')\n",
        "sns.histplot(df_hour_data['registered'], kde=True, bins=30, color='orange', label='Registered')\n",
        "plt.legend()\n",
        "plt.title('Distribution of Casual and Registered Data')\n",
        "plt.show()"
      ],
      "metadata": {
        "trusted": true,
        "execution": {
          "iopub.status.busy": "2024-12-22T05:43:00.819141Z",
          "iopub.execute_input": "2024-12-22T05:43:00.819518Z",
          "iopub.status.idle": "2024-12-22T05:43:01.590296Z",
          "shell.execute_reply.started": "2024-12-22T05:43:00.819489Z",
          "shell.execute_reply": "2024-12-22T05:43:01.589067Z"
        },
        "id": "c3gX3FLBjBy7"
      },
      "outputs": [],
      "execution_count": null
    },
    {
      "cell_type": "markdown",
      "source": [
        "***Insight:***\n",
        "\n",
        "- Casual Data(Biru)\n",
        "1. Sejumlah besar data berkelompok di sekitar 0, yang mengindikasikan banyaknya contoh penyewaan sepeda yang sangat sedikit atau tidak ada sama sekali.\n",
        "2. Distribusi data condong ke kanan, dengan lebih banyak nilai terkonsentrasi di ujung bawah.\n",
        "- Registered Data(Oranye)\n",
        "1. Pengguna terdaftar memiliki distribusi yang lebih luas dibandingkan dengan pengguna biasa.\n",
        "2. Nilai yang lebih sedikit terkonsentrasi di sekitar 0 dibandingkan dengan pengguna biasa, menunjukkan penyewaan sepeda terjadi lebih sering.\n",
        "3. Distribusi data juga condong ke kanan, tetapi puncaknya lebih rendah daripada pengguna biasa."
      ],
      "metadata": {
        "id": "DxDCjw8E0hpg"
      }
    },
    {
      "cell_type": "markdown",
      "source": [
        "***2. Visualisasikan Boxplot sebelum memperbaiki outlier***"
      ],
      "metadata": {
        "id": "MXSNT57j1GpK"
      }
    },
    {
      "cell_type": "code",
      "source": [
        "sns.boxplot(data=df_hour_data[['casual', 'registered']])\n",
        "plt.title('Boxplot dari kolom Casual dan Registered Sebelum Penghapusan Outlier')\n",
        "plt.show()"
      ],
      "metadata": {
        "id": "LFrc8m890a2J"
      },
      "execution_count": null,
      "outputs": []
    },
    {
      "cell_type": "markdown",
      "source": [
        "***Insight:***\n",
        "\n",
        "**1. Casual Data (Biru)**\n",
        "- Nilai Median (17) sangat dekat dengan Q1 (4), yang menunjukkan bahwa sebagian besar data sewa kasual terkonsentrasi dalam kisaran yang sangat rendah.\n",
        "- Ukuran kotak yang kecil menunjukkan variasi data terbatas.\n",
        "- Terdapat outlier di atas batas maksimum, yang menunjukkan lonjakan tidak biasa dalam permintaan sewa tinggi.\n",
        "\n",
        " **2. Registered Data (Biru)**\n",
        "- Nilai Median (115) terletak di dekat bagian tengah kotak, menunjukkan bahwa distribusi untuk pengguna terdaftar lebih seimbang dibandingkan dengan pengguna biasa.\n",
        "- Kotak yang lebih lebar menunjukkan variasi data yang lebih besar.\n",
        "- Terdapat outlier di atas batas maksimum, yang menunjukkan lonjakan tidak biasa dalam permintaan sewa tinggi.\n",
        "- Nilai maksimum untuk pengguna terdaftar lebih tinggi daripada pengguna biasa, artinya pengguna terdaftar lebih sering menyewa sepeda.\n",
        "\n",
        " **Perbandingan**\n",
        "- Pengguna terdaftar memiliki jangkauan dan variasi yang jauh lebih tinggi dan lebih konsisten dibandingkan dengan pengguna biasa.\n",
        "- Kedua kategori memiliki outlier, tetapi pengguna terdaftar menunjukkan rentang nilai ekstrem yang lebih luas."
      ],
      "metadata": {
        "id": "f5fXlFAx1rEB"
      }
    },
    {
      "cell_type": "markdown",
      "source": [
        "***3. Periksa dan tandai outlier menggunakan IQR***"
      ],
      "metadata": {
        "id": "ADhJwlan2POK"
      }
    },
    {
      "cell_type": "code",
      "source": [
        "# Inisialisasi kolom 'is_outlier' dengan False\n",
        "df_hour_data['is_outlier'] = False\n",
        "\n",
        "for column in ['casual', 'registered']:\n",
        "    Q1 = df_hour_data[column].quantile(0.25)\n",
        "    Q3 = df_hour_data[column].quantile(0.75)\n",
        "    IQR = Q3 - Q1\n",
        "    lower_bound = Q1 - (1.5 * IQR)\n",
        "    upper_bound = Q3 + (1.5 * IQR)\n",
        "\n",
        "    # Identifikasi outlier\n",
        "    outliers = df_hour_data[(df_hour_data[column] < lower_bound) | (df_hour_data[column] > upper_bound)]\n",
        "\n",
        "    # Tandai baris dengan outlier di kolom 'is_outlier'\n",
        "    df_hour_data.loc[outliers.index, 'is_outlier'] = True\n",
        "\n",
        "    # Cetak Informasi Outlier\n",
        "    print(f\"Outliers in {column}: {len(outliers)} rows\")\n",
        "    print(f\"Outlier values for {column}:\")\n",
        "    print(outliers[[column]])\n",
        "\n",
        "# Verifikasi kolom 'is_outlier'\n",
        "df_hour_data[['casual', 'registered', 'is_outlier']].head()\n",
        "\n",
        "# Opsional : Hapus outlier jika diperukan untuk analisis tertentu (tetap menjaga kerangka data aslu tetap utuh)\n",
        "df_no_outliers = df_hour_data[df_hour_data['is_outlier'] == False]"
      ],
      "metadata": {
        "trusted": true,
        "execution": {
          "iopub.status.busy": "2024-12-22T05:43:01.820945Z",
          "iopub.execute_input": "2024-12-22T05:43:01.821283Z",
          "iopub.status.idle": "2024-12-22T05:43:01.844747Z",
          "shell.execute_reply.started": "2024-12-22T05:43:01.821255Z",
          "shell.execute_reply": "2024-12-22T05:43:01.843775Z"
        },
        "id": "hJjbsE8NjBy8"
      },
      "outputs": [],
      "execution_count": null
    },
    {
      "cell_type": "markdown",
      "source": [
        "***Insight:***\n",
        "\n",
        "1. Casual (Biru)\n",
        "- Outlier yang terdeteksi: 1.192 baris\n",
        "- Contoh Nilai Outlier: 144, 149, 124, 174\n",
        "- Nilai-nilai ini secara signifikan lebih tinggi dibandingkan dengan distribusi data dalam IQR, dimana median (17) sangat dekat dengan Q1 (4).\n",
        "2. Registered (Oranye)\n",
        "- Nilai Outlier yang Terdeteksi: 680 baris\n",
        "- Contoh Nilai Outlier: 539, 532, 540, 521\n",
        "- Nilai-nilai ini sangat tinggi dibandingkan dengan ambang batas maksimum Q3 (220)."
      ],
      "metadata": {
        "id": "ZNf1Z6Ci30uV"
      }
    },
    {
      "cell_type": "code",
      "source": [],
      "metadata": {
        "id": "PE0wD-Jz4Py2"
      },
      "execution_count": null,
      "outputs": []
    },
    {
      "cell_type": "code",
      "source": [
        "# Visualisasikan setelah memperbaiki outlier\n",
        "# Gunakan kerangka data \"df_no_outliers\"\n",
        "sns.boxplot(data=df_no_outliers[['casual', 'registered']])\n",
        "plt.title('Boxplot dari data Casual dan Registered Setelah Penghapusan Outlier')\n",
        "plt.show()"
      ],
      "metadata": {
        "trusted": true,
        "execution": {
          "iopub.status.busy": "2024-12-22T05:43:01.845592Z",
          "iopub.execute_input": "2024-12-22T05:43:01.845849Z",
          "iopub.status.idle": "2024-12-22T05:43:02.07966Z",
          "shell.execute_reply.started": "2024-12-22T05:43:01.845824Z",
          "shell.execute_reply": "2024-12-22T05:43:02.07861Z"
        },
        "id": "MpofvFTgjBy9"
      },
      "outputs": [],
      "execution_count": null
    },
    {
      "cell_type": "markdown",
      "source": [
        "***Insight:***\n",
        "\n",
        "1. Casual (Biru)\n",
        "- Penggunaan sepeda sebagian besar terpusat pada kecepatan 0-50.\n",
        "- Setelah menghilangkan outlier, puncak data di sekitar 0 tampak lebih rendah.\n",
        "2. Registered (Oranye)\n",
        "- Data penggunaan sepeda lebih tersebar dalam kisaran 0-100.\n",
        "- Setelah menghilangkan outlier, puncak data di sekitar 0 tampak lebih rendah."
      ],
      "metadata": {
        "id": "LG9dp_j94upa"
      }
    },
    {
      "cell_type": "code",
      "source": [
        "# Visualisasikan distribusi data kasual dan terdaftar setelah memperbaiki outlier\n",
        "\n",
        "sns.histplot(df_hour_data['casual'], kde=True, bins=30, color='blue', label='Casual')\n",
        "sns.histplot(df_hour_data['registered'], kde=True, bins=30, color='orange', label='Registered')\n",
        "plt.legend()\n",
        "plt.title('Distribusi data Casual dan Registered Data Setelah Perbaikan Outlier')\n",
        "plt.show()"
      ],
      "metadata": {
        "trusted": true,
        "execution": {
          "iopub.status.busy": "2024-12-22T05:43:02.080869Z",
          "iopub.execute_input": "2024-12-22T05:43:02.081263Z",
          "iopub.status.idle": "2024-12-22T05:43:02.77124Z",
          "shell.execute_reply.started": "2024-12-22T05:43:02.081223Z",
          "shell.execute_reply": "2024-12-22T05:43:02.770116Z"
        },
        "id": "YFSXNVi7jBy_"
      },
      "outputs": [],
      "execution_count": null
    },
    {
      "cell_type": "markdown",
      "source": [
        "***Insight:***\n",
        "\n",
        "- Kerangka df_hour_datadata mempertahankan outlier, dengan kolom baru ditambahkan sebagai penanda.\n",
        "- Nilai-nilai outlier df_hour_datadisimpan untuk memahami anomali yang menyebabkannya.\n",
        "Kerangka data baru, df_no_outliers, dibuat dengan menghapus outlier. - - Distribusi data menjadi lebih seimbang, yang dapat membantu analisis lebih lanjut (jika diperlukan). Analisis tertentu mengharuskan outlier disesuaikan untuk mencegahnya mendistorsi hasil atau menimbulkan bias.\n",
        "- Pengguna kasual cenderung menyewa sepeda lebih jarang daripada pengguna terdaftar. Hal ini terlihat dari rentang nilai yang lebih kecil dan penurunan tajam, yang kemungkinan dipengaruhi oleh faktor musiman.\n",
        "- Pengguna terdaftar memiliki distribusi yang lebih luas karena mereka menyewa sepeda secara teratur. Pola penyewaan mereka lebih stabil."
      ],
      "metadata": {
        "id": "DhY4kFpU5SZr"
      }
    },
    {
      "cell_type": "markdown",
      "metadata": {
        "id": "zsyZjqak8DC2"
      },
      "source": [
        "## Visualization & Explanatory Analysis"
      ]
    },
    {
      "cell_type": "markdown",
      "metadata": {
        "id": "HZxOiQ6n8DC2"
      },
      "source": [
        "***(Q1) Perbedaan Pola Sewa***\n",
        "\n",
        "1. Visualisasi Sewa Harian\n",
        "2. Perbandingan Hari Kerja vs Akhir Pekan"
      ]
    },
    {
      "cell_type": "code",
      "source": [
        "# Sewa Sepeda Harian: Casual vs Registered\n",
        "daily_data = df_hour_data.groupby('dteday')[['casual', 'registered']].sum().reset_index()\n",
        "plt.figure(figsize=(12, 6))\n",
        "sns.lineplot(data=daily_data, x='dteday', y='casual', label='Casual', color='blue')\n",
        "sns.lineplot(data=daily_data, x='dteday', y='registered', label='Registered', color='orange')\n",
        "plt.title('Sewa Sepeda Harian: Casual vs Registered')\n",
        "plt.xlabel('Date')\n",
        "plt.ylabel('Number of Rentals')\n",
        "plt.legend()\n",
        "plt.show()"
      ],
      "metadata": {
        "trusted": true,
        "execution": {
          "iopub.status.busy": "2024-12-22T05:43:02.773651Z",
          "iopub.execute_input": "2024-12-22T05:43:02.773953Z",
          "iopub.status.idle": "2024-12-22T05:43:03.250093Z",
          "shell.execute_reply.started": "2024-12-22T05:43:02.773928Z",
          "shell.execute_reply": "2024-12-22T05:43:03.248878Z"
        },
        "id": "TCFzyfCLjBzA"
      },
      "outputs": [],
      "execution_count": null
    },
    {
      "cell_type": "markdown",
      "source": [
        "***Insight :***\n",
        "\n",
        "- Pengguna terdaftar secara konsisten memiliki aktivitas penyewaan yang lebih tinggi dibandingkan dengan pengguna biasa sepanjang tahun.\n",
        "- Pengguna terdaftar kemungkinan besar menggunakan layanan ini secara teratur, seperti untuk pergi bekerja atau sekolah.\n",
        "- Kedua jenis pengguna menunjukkan lonjakan aktivitas selama bulan-bulan musim panas (sekitar Mei hingga September), kemungkinan karena kondisi cuaca yang mendukung untuk bersepeda.\n",
        "- Penurunan aktivitas terjadi selama bulan-bulan musim dingin (Desember hingga Februari), mungkin karena cuaca yang kurang baik.\n",
        "- Jumlah pengguna terdaftar mencapai puncaknya sekitar pertengahan musim panas, dengan beberapa hari mendekati atau melebihi 7.000 persewaan.\n",
        "- Pengguna biasa juga mencapai puncaknya selama periode yang sama, meskipun jumlah mereka lebih rendah dibandingkan dengan pengguna terdaftar."
      ],
      "metadata": {
        "id": "PwjWo8WH6cs9"
      }
    },
    {
      "cell_type": "code",
      "source": [
        "# Rata-Rata sewa: Hari kerja Day vs Akhir Pekan\n",
        "# Pengelompokan data berdasarkan hari kerja\n",
        "workingday_data = df_hour_data.groupby('workingday')[['casual', 'registered']].mean().reset_index()\n",
        "workingday_data['day_type'] = workingday_data['workingday'].map({0: 'Weekend/Holiday', 1: 'Working Day'})\n",
        "\n",
        "# Position untuk bar\n",
        "x = np.arange(len(workingday_data))  # Position of the bars\n",
        "width = 0.35  # Width of each bar\n",
        "\n",
        "# Membuat plot\n",
        "plt.figure(figsize=(8, 5))\n",
        "\n",
        "# Merencanakan casual data\n",
        "plt.bar(x - width / 2, workingday_data['casual'], width, color='blue', label='Casual')\n",
        "\n",
        "# Plotting data terdaftar\n",
        "plt.bar(x + width / 2, workingday_data['registered'], width, color='orange', label='Registered')\n",
        "\n",
        "# Menambahkan judul dan label\n",
        "plt.title('Rata-rata sewa : Hari Kerja vs Akhir Pekan')\n",
        "plt.ylabel('Number of Rentals')\n",
        "plt.xlabel('Day Type')\n",
        "\n",
        "# Menambahkan label x-tick\n",
        "plt.xticks(x, workingday_data['day_type'])\n",
        "\n",
        "# Menambahkan legenda\n",
        "plt.legend()\n",
        "\n",
        "# Menambahkan plot\n",
        "plt.show()"
      ],
      "metadata": {
        "trusted": true,
        "execution": {
          "iopub.status.busy": "2024-12-22T05:43:03.251448Z",
          "iopub.execute_input": "2024-12-22T05:43:03.251788Z",
          "iopub.status.idle": "2024-12-22T05:43:03.453657Z",
          "shell.execute_reply.started": "2024-12-22T05:43:03.251759Z",
          "shell.execute_reply": "2024-12-22T05:43:03.452537Z"
        },
        "id": "QVz3nNQdjBzB"
      },
      "outputs": [],
      "execution_count": null
    },
    {
      "cell_type": "markdown",
      "source": [
        "***Insight :***\n",
        "\n",
        "- Data pengguna kasual menunjukkan tarif sewa yang lebih tinggi selama akhir pekan atau hari libur dibandingkan dengan hari kerja. Pengguna kasual cenderung menggunakan layanan ini untuk kegiatan rekreasi atau bersantai.\n",
        "- Data pengguna terdaftar menunjukkan tarif sewa yang lebih tinggi pada hari kerja dibandingkan dengan akhir pekan atau hari libur. Hal ini menunjukkan bahwa pengguna terdaftar kemungkinan besar menggunakan - layanan ini untuk perjalanan rutin, seperti untuk bekerja atau sekolah.\n",
        "- Pada hari kerja, pengguna terdaftar mendominasi penyewaan dibandingkan dengan pengguna biasa, menunjukkan bahwa layanan ini lebih sering digunakan oleh mereka yang memanfaatkannya untuk rutinitas sehari-hari."
      ],
      "metadata": {
        "id": "NG3OlXRK7ynu"
      }
    },
    {
      "cell_type": "markdown",
      "source": [
        "***(Q2) Sewa sepeda tertinggi per jam***\n",
        "\n",
        "Langkah-langkah Analisis:\n",
        "\n",
        "1. Menggabungkan data kasual dan terdaftar berdasarkan jam.\n",
        "\n",
        "   Tujuan: Untuk menemukan jam sibuk bagi pengguna biasa dan terdaftar.\n",
        "2. Gunakan diagram garis untuk menunjukkan pola sepanjang hari.\n",
        "Buat peta panas persewaan berdasarkan jam dan hari (hari kerja), yang menggabungkan data persewaan berdasarkan jam dan hari kerja.\n",
        "\n",
        "   Tujuan: Untuk menunjukkan pola penggunaan berdasarkan kombinasi jam dan hari.\n",
        "Gunakan peta panas untuk mengilustrasikan intensitas penyewaan."
      ],
      "metadata": {
        "id": "Ro5C2LeA8J8u"
      }
    },
    {
      "cell_type": "code",
      "source": [
        "# Plot garis sewa Casual & Registered per jam\n",
        "# Agregasikan data casual dan registered berdasarkan hr\n",
        "# Gunakan line plot untuk menunjukkan pola sepanjang hari\n",
        "\n",
        "hourly_data = df_hour_data.groupby('hr')[['casual', 'registered']].mean().reset_index()\n",
        "plt.figure(figsize=(12, 6))\n",
        "sns.lineplot(data=hourly_data, x='hr', y='casual', label='Casual', color='blue')\n",
        "sns.lineplot(data=hourly_data, x='hr', y='registered', label='Registered', color='orange')\n",
        "plt.title('Sewa Per-jam: Casual vs Registered')\n",
        "plt.xlabel('Jam dalam Sehari')\n",
        "plt.ylabel('Jumlah rata-rata penyewaan')\n",
        "plt.legend()\n",
        "plt.xticks(range(0, 24, 2))\n",
        "plt.grid(True)\n",
        "plt.show()"
      ],
      "metadata": {
        "id": "3KscII5k77Em"
      },
      "execution_count": null,
      "outputs": []
    },
    {
      "cell_type": "code",
      "source": [
        "# Heatmap Penyewaan Casual & Registered (Hari Kerja vs Jam Kerja)\n",
        "# Agresikan data casual dan registered berdasarkan weekday dan hr\n",
        "# Gunakan heatmap untuk menggambarkan intensitas penyewaan\n",
        "\n",
        "# Mempersiapkan data untuk heatmap\n",
        "heatmap_data = df_hour_data.groupby(['weekday', 'hr'])[['casual', 'registered']].mean().unstack()\n",
        "\n",
        "# Buat subplot\n",
        "fig, axes = plt.subplots(1, 2, figsize=(20, 8), sharey=True)\n",
        "\n",
        "# Heatmap untuk Casual\n",
        "sns.heatmap(heatmap_data['casual'], cmap='Blues', ax=axes[0], annot=False, cbar=True)\n",
        "axes[0].set_title('Casual Rentals Heatmap (Weekday vs Hour)')\n",
        "axes[0].set_ylabel('Weekday (0=Sunday)')\n",
        "axes[0].set_xlabel('Hour of Day')\n",
        "\n",
        "# Heatmap untuk Registered\n",
        "sns.heatmap(heatmap_data['registered'], cmap='Oranges', ax=axes[1], annot=False, cbar=True)\n",
        "axes[1].set_title('Registered Rentals Heatmap (Weekday vs Hour)')\n",
        "axes[1].set_ylabel('')  # Remove y-label for the second plot for cleaner look\n",
        "axes[1].set_xlabel('Hour of Day')\n",
        "\n",
        "# Tampilkan plot\n",
        "plt.tight_layout()\n",
        "plt.show()"
      ],
      "metadata": {
        "trusted": true,
        "execution": {
          "iopub.status.busy": "2024-12-22T05:43:03.77025Z",
          "iopub.execute_input": "2024-12-22T05:43:03.770641Z",
          "iopub.status.idle": "2024-12-22T05:43:04.76387Z",
          "shell.execute_reply.started": "2024-12-22T05:43:03.770601Z",
          "shell.execute_reply": "2024-12-22T05:43:04.762489Z"
        },
        "id": "HOdKnORTjBzJ"
      },
      "outputs": [],
      "execution_count": null
    },
    {
      "cell_type": "markdown",
      "source": [
        "***Insight :***\n",
        "\n",
        "- Data pengguna biasa lebih terkonsentrasi pada akhir pekan (Sabtu, Minggu), sementara pengguna terdaftar lebih aktif pada hari kerja.\n",
        "- Pengguna terdaftar menunjukkan dua puncak utama dalam aktivitas:\n",
        "Pagi (sekitar jam 8 pagi) dan\n",
        "Malam (sekitar jam 5-6 sore).\n",
        "- Puncak dalam data pengguna terdaftar kemungkinan mencerminkan perjalanan rutin ke tempat kerja atau sekolah.\n",
        "- Aktivitas pengguna terdaftar menurun secara signifikan di luar jam sibuk ini.\n",
        "- Penyewaan pengguna kasual lebih konsisten sepanjang hari tanpa puncak yang tajam.\n",
        "- Aktivitas pengguna biasa mencapai puncaknya di sore hari (sekitar pukul 2-4 sore), yang menunjukkan penggunaan rekreasi atau waktu senggang."
      ],
      "metadata": {
        "id": "65eZSmCG-bIW"
      }
    },
    {
      "cell_type": "markdown",
      "source": [
        "***(Q3) Anomali berdasarkan lonjakan atau penurunan tiba-tiba***\n",
        "\n",
        "Langkah-langkah Analisis:\n",
        "\n",
        "1. Menganalisis Lonjakan dan Penurunan Sewa untuk Mengidentifikasi Anomali\n",
        "\n",
        "- Hitung Perubahan Sewa Harian\n",
        "\n",
        " - Ubah data sewa sepeda per jam menjadi data harian dengan menjumlahkan total sewa ( cnt) untuk setiap hari menggunakan groupbydan aggfungsi.\n",
        " - Hitung perubahan harian jumlah sewa menggunakan diff()fungsi tersebut.\n",
        " - Tambahkan variabel baru yang disebut changeuntuk menyimpan selisih antara total sewa dari satu hari ke hari berikutnya. Isi NaNnilai awal dengan 0menggunakan fillna(0).\n",
        "- Mengidentifikasi Lonjakan dan Penurunan (Anomali) yang Signifikan\n",
        "\n",
        " - Hitung ambang batas untuk deteksi anomali menggunakan dua kali deviasi standar ( 2 * std) dari nilai perubahan harian ( change).\n",
        " - Tandai titik data yang perubahannya lebih besar atau lebih kecil dari ambang batas ini sebagai anomali.\n",
        "- Visualisasikan Perubahan Sewa dengan Anomali yang Disorot\n",
        "\n",
        " - Buat diagram garis untuk menampilkan perubahan sewa harian dari waktu ke waktu.\n",
        " - Sorot anomali dengan menambahkan titik merah pada plot untuk menunjukkan lonjakan atau penurunan yang signifikan.\n",
        " - Sertakan garis horizontal untuk mewakili ambang batas positif dan negatif agar lebih mudah interpretasi visual."
      ],
      "metadata": {
        "id": "Evmj_GkT-x8_"
      }
    },
    {
      "cell_type": "code",
      "source": [
        "# Perubahan Sewa Harian dengan Anomali yang Disorot\n",
        "# Hitunglah perbedaan harian dalam jumlah sewa.\n",
        "# Tambahkan variabel 'perubahan untuk menyimpan perbedaan antara\n",
        "# total penyewaan sepeda (cnt) dari satu hari ke hari berikutnya (diff()).\n",
        "# Gunakan grafik garis dengan sorotan untuk perubahan yang signifikan.\n",
        "\n",
        "# === Bagian 1: Deteksi Anomali ---\n",
        "#1. Gabungkan data per jam menjadi data harian\n",
        "daily_data = df_hour_data.groupby('dteday').agg({'cnt': 'sum'}).reset_index()\n",
        "\n",
        "# 2. Hitung perubahan harian\n",
        "daily_data['change'] = daily_data['cnt'].diff()\n",
        "daily_data['change'].fillna(0, inplace=True)  # Fill NaN values at the start with 0\n",
        "\n",
        "# 3. Identifikasi anomali\n",
        "threshold = daily_data['change'].std() * 2  # Threshold: 2 * standard deviation\n",
        "anomalies = daily_data[abs(daily_data['change']) > threshold]\n",
        "\n",
        "# === Part 2: Visualisasi ===\n",
        "# Buat gambar dan sumbu untuk kontrol yang lebih baik\n",
        "fig, ax = plt.subplots(figsize=(14, 7))\n",
        "\n",
        "# Plot garis untuk perubahan harian\n",
        "sns.lineplot(data=daily_data, x='dteday', y='change', ax=ax, label='Daily Change', color='green')\n",
        "\n",
        "# Sorot anomali dengan scatter plot\n",
        "ax.scatter(anomalies['dteday'], anomalies['change'], color='red', label='Anomaly', s=50)\n",
        "\n",
        "# Tambahkan garis horizontal untuk ambang batas\n",
        "ax.axhline(threshold, color='blue', linestyle='--', label='Positive Threshold')\n",
        "ax.axhline(-threshold, color='yellow', linestyle='--', label='Negative Threshold')\n",
        "\n",
        "# Tetapkan label dan judul sumbu\n",
        "ax.set_title('Daily Rental Changes with Anomalies Highlighted', fontsize=14)\n",
        "ax.set_xlabel('Date')\n",
        "ax.set_ylabel('Daily Change in Rentals')\n",
        "\n",
        "# Putar dan format tanggal sumbu X\n",
        "fig.autofmt_xdate(rotation=45)\n",
        "\n",
        "# Tambahkan legenda dan grid\n",
        "ax.legend()\n",
        "ax.grid(alpha=0.5)\n",
        "\n",
        "# Sesuaikan tata letak\n",
        "plt.tight_layout()\n",
        "\n",
        "# Tampilkan plot\n",
        "plt.show()\n",
        "\n",
        "# === Part 3: Analisis ===\n",
        "print(f\"Number of anomalies detected: {len(anomalies)}\")\n",
        "print(\"Details of Anomalies:\")\n",
        "print(anomalies)\n"
      ],
      "metadata": {
        "trusted": true,
        "execution": {
          "iopub.status.busy": "2024-12-22T05:43:04.765042Z",
          "iopub.execute_input": "2024-12-22T05:43:04.765458Z",
          "iopub.status.idle": "2024-12-22T05:43:05.484659Z",
          "shell.execute_reply.started": "2024-12-22T05:43:04.765408Z",
          "shell.execute_reply": "2024-12-22T05:43:05.483534Z"
        },
        "id": "KHu3RPv5jBzL"
      },
      "outputs": [],
      "execution_count": null
    },
    {
      "cell_type": "markdown",
      "source": [
        "***Penjelasan :***\n",
        "\n",
        "- Garis hijau menunjukkan perubahan harian dalam jumlah penyewaan sepeda. Secara keseluruhan, fluktuasi antara garis biru dan kuning menunjukkan pola harian yang relatif stabil dengan beberapa perubahan signifikan.\n",
        "- Titik merah adalah anomali (perubahan signifikan yang melampaui ambang batas berdasarkan dua kali simpangan baku dari perubahan rata-rata). Ini mewakili hari-hari dengan perubahan drastis dalam penyewaan sepeda, baik peningkatan maupun penurunan.\n",
        "\n",
        "***Insight ***\n",
        "\n",
        "- Anomali Positif (Peningkatan Sewa yang Drastis): Titik merah di atas garis 0 menunjukkan peningkatan signifikan dalam jumlah penyewaan sepeda.\n",
        "Kemungkinan penyebabnya termasuk cuaca cerah, acara khusus atau hari libur, dan perubahan musim (misalnya, awal musim semi atau musim panas), yang cenderung meningkatkan harga sewa.\n",
        "- Anomali Negatif (Penurunan Sewa Drastis): Titik merah di bawah garis 0 menunjukkan penurunan signifikan dalam jumlah penyewaan sepeda.\n",
        "Kemungkinan penyebabnya termasuk cuaca buruk, hari libur tertentu, atau masalah operasional seperti perawatan sepeda.\n",
        "- Anomali yang lebih sering terjadi pada tahun 2012 dibandingkan dengan tahun 2011: Ini mungkin menunjukkan bahwa penggunaan sepeda menjadi lebih populer di tahun kedua.\n",
        "Perubahan maksimum berkisar antara -5000 dan +4000: Fluktuasi besar ini menyoroti variabilitas tinggi dalam jumlah sewa harian"
      ],
      "metadata": {
        "id": "zuJE25G8CB2F"
      }
    },
    {
      "cell_type": "markdown",
      "source": [
        "***2. Analisis Faktor Eksternal untuk Mengidentifikasi Apakah Anomali Sewa Terkait dengan Kondisi Cuaca***\n",
        "\n",
        "Tahapan :\n",
        "1. Gabungkan Data Anomali dengan Data Cuaca dan Kecepatan Angin\n",
        "\n",
        " - Kelompokkan data per jam menjadi data harian untuk menghitung statistik harian untuk kecepatan angin (windspeed) dan kondisi cuaca (weathersit).\n",
        " - Gunakan penggabungan untuk menggabungkan data anomali dengan data cuaca dan kecepatan angin berdasarkan kolom tanggal (dteday).\n",
        "2. Visualisasikan Hubungan Antara Perubahan Sewa, Kecepatan Angin, dan Kondisi Cuaca\n",
        "\n",
        " - Buat diagram sebar untuk memvisualisasikan perubahan sewa harian (perubahan) terhadap kecepatan angin, dengan warna mewakili kondisi cuaca (cuaca).\n",
        " - Tambahkan garis horizontal untuk menyorot kecepatan angin rata-rata sebagai referensi.\n",
        "3. Merangkum dengan Statistik Deskriptif\n",
        "\n",
        " - Hitung rata-rata dan deviasi standar perubahan sewa (change) dan kecepatan angin (windspeed) untuk setiap kondisi cuaca (weathersit).\n",
        " - Menampilkan jumlah hari anomali untuk setiap kondisi cuaca."
      ],
      "metadata": {
        "id": "nfR1zNioCWtQ"
      }
    },
    {
      "cell_type": "code",
      "source": [
        "# === Bagian 2: Analisis Hubungan dengan kondisi cuaca  ===\n",
        "\n",
        "# 1. Mengumpulkan data per jam utk menghitung statistik weather dan windspeed\n",
        "hourly_aggregated = df_hour_data.groupby('dteday').agg({\n",
        "    'weathersit': lambda x: x.mode()[0],  # Mode utk weather\n",
        "    'windspeed': 'mean',                 # Kecepatan rata-rata wind speed\n",
        "    'cnt': 'sum'                         # Total sewa\n",
        "}).reset_index()\n",
        "\n",
        "# 2. Gabungkan data anomali deangan statistik harian weather\n",
        "merged_data = anomalies.merge(hourly_aggregated, on='dteday', how='left')\n",
        "\n",
        "# 3. Visualisasikan anomali terkait windspeed dan kondisi weather\n",
        "plt.figure(figsize=(12, 6))\n",
        "sns.scatterplot(data=merged_data, x='change', y='windspeed', hue='weathersit', palette='viridis')\n",
        "plt.axhline(df_hour_data['windspeed'].mean(), color='red', linestyle='--', label='Average Windspeed')\n",
        "plt.title('Anomali vs Windspeed dan Weathersit')\n",
        "plt.xlabel('Daily Change in Rentals')\n",
        "plt.ylabel('Windspeed')\n",
        "plt.legend(title='Weather Condition')\n",
        "plt.show()\n",
        "\n",
        "# 4. Hitung statistik deskriptif untuk anomali berdasarkan kondisi weather\n",
        "anomalies_weather = merged_data.groupby('weathersit').agg({\n",
        "    'change': ['mean', 'std'],           # Statistik utk perubahan sewa\n",
        "    'windspeed': ['mean', 'std'],        # Statistik wind speed\n",
        "    'dteday': 'count'                    # Jumlah hari anomali\n",
        "}).rename(columns={'dteday': 'count_anomalies'})\n",
        "\n",
        "# Cetak dataframe sbg tabel\n",
        "print(\"Descriptive Statistics for Anomalies (Weather Condition, Windspeed, and Changes):\")\n",
        "anomalies_weather_df = pd.DataFrame(anomalies_weather)\n",
        "print(anomalies_weather_df.to_string())  # Menampilkan dataframe dgn rapi"
      ],
      "metadata": {
        "trusted": true,
        "execution": {
          "iopub.status.busy": "2024-12-22T05:43:05.485877Z",
          "iopub.execute_input": "2024-12-22T05:43:05.486194Z",
          "iopub.status.idle": "2024-12-22T05:43:05.940284Z",
          "shell.execute_reply.started": "2024-12-22T05:43:05.486165Z",
          "shell.execute_reply": "2024-12-22T05:43:05.939052Z"
        },
        "id": "1Yuj-FQFIgSG"
      },
      "outputs": [],
      "execution_count": null
    },
    {
      "cell_type": "code",
      "source": [
        "# Periksa distribusi weathersit di dataset asli\n",
        "print(df_hour_data['weathersit'].value_counts())"
      ],
      "metadata": {
        "id": "hHyOQwb2J5tE"
      },
      "execution_count": null,
      "outputs": []
    },
    {
      "cell_type": "markdown",
      "source": [
        "***Penjelasan :***\n",
        "\n",
        "1. Kisaran Kecepatan Angin dalam Anomali:\n",
        "\n",
        "  Sebagian besar nilai kecepatan angin berada dalam kisaran 0,2 (ditandai dengan garis merah horizontal).\n",
        "  Beberapa anomali dengan perubahan besar (baik positif maupun negatif) terjadi pada nilai kecepatan angin yang lebih tinggi (> 0,3), kemungkinan karena kondisi cuaca buruk.\n",
        "2. Distribusi Anomali Berdasarkan Kondisi Cuaca (Weathersit):\n",
        "\n",
        "- Weathersit = 1 (Cerah, Sedikit Awan):\n",
        "\n",
        " - Didominasi oleh anomali positif (peningkatan penyewaan sepeda).\n",
        " - Perubahan rata-rata: 2256 (positif), menunjukkan bahwa anomali pada cuaca cerah biasanya merupakan peningkatan besar dalam penyewaan sepeda.\n",
        " - Simpangan baku perubahan: 1780, menunjukkan variabilitas signifikan.\n",
        " - Kisaran kecepatan angin lebih rendah dibandingkan dengan kondisi lain (rata-rata 0,19). Langit cerah dan kecepatan angin yang lebih rendah kemungkinan akan meningkatkan harga sewa.\n",
        "- Weathersit = 2 (Kabut, Berawan):\n",
        "\n",
        " - Campuran anomali positif dan negatif.\n",
        " - Perubahan rata-rata: -1039 (negatif), menunjukkan bahwa anomali pada cuaca berkabut atau berawan cenderung mengakibatkan penurunan sewa.\n",
        " - Simpangan baku perubahan: 3040, lebih tinggi daripada pada cuaca = 1, menunjukkan efek yang lebih acak.\n",
        " - Kecepatan angin rata-rata: 0,225, menunjukkan angin kencang.\n",
        "- Weathersit = 3 (Salju Ringan/Hujan):\n",
        "\n",
        " - Didominasi oleh anomali negatif (penurunan penyewaan sepeda).\n",
        " - Perubahan rata-rata: -2734 (negatif), menunjukkan bahwa anomali dalam kondisi hujan atau bersalju biasanya menyebabkan penurunan signifikan dalam sewa.\n",
        " - Simpangan baku perubahan: 1814, serupa dengan weathersit = 1, menunjukkan variabilitas yang cukup besar.\n",
        " - Kecepatan angin rata-rata: 0,22, menunjukkan kecepatan angin yang relatif tinggi selama kondisi ini.\n",
        " - Hujan ringan atau salju mengurangi harga sewa, bahkan dengan kecepatan angin rendah.\n",
        "\n",
        "***Insight :***\n",
        "\n",
        "- Dampak Cuaca terhadap Anomali:\n",
        "\n",
        " Cuaca cerah (weathersit = 1) mendukung peningkatan signifikan dalam penyewaan sepeda, bahkan selama anomali.\n",
        "Cuaca buruk (weathersit = 3) secara drastis mengurangi penyewaan sepeda.\n",
        "Cuaca yang sangat buruk (weathersit = 4) tidak menghasilkan anomali, hanya tiga titik data yang tercatat.\n",
        "- Dampak Kecepatan Angin:\n",
        "\n",
        " Kecepatan angin memiliki korelasi sedang dengan anomali.\n",
        "Pada nilai kecepatan angin rendah (sekitar 0,2), ada kecenderungan peningkatan sewa (anomali positif), terutama pada cuaca cerah.\n",
        "Pada nilai kecepatan angin tinggi (> 0,3), ada kecenderungan penurunan sewa, terutama saat kondisi berkabut atau hujan.\n",
        "- Variasi berdasarkan Kondisi Cuaca:\n",
        "\n",
        " Simpangan baku tertinggi terjadi pada cuaca = 2, yang mengindikasikan bahwa dampak cuaca berawan/berkabut pada anomali lebih sulit diprediksi."
      ],
      "metadata": {
        "id": "sn0YAcK-J7vS"
      }
    },
    {
      "cell_type": "markdown",
      "source": [
        "# Pengelompokan Berbasis Waktu\n",
        "Pendekatan ini mengelompokkan data berdasarkan waktu (Pagi, Sore, Malam, Malam) untuk mengungkap pola penggunaan sepeda yang unik."
      ],
      "metadata": {
        "id": "zhunsYVhLF_K"
      }
    },
    {
      "cell_type": "code",
      "source": [
        "# Tentukan kategori waktu berdasarkan jam\n",
        "def categorize_time(hour):\n",
        "    if 5 <= hour <= 11:\n",
        "        return 'Morning'\n",
        "    elif 12 <= hour <= 16:\n",
        "        return 'Afternoon'\n",
        "    elif 17 <= hour <= 20:\n",
        "        return 'Evening'\n",
        "    else:\n",
        "        return 'Night'\n",
        "\n",
        "# Tambahkan kolom baru\n",
        "df_hour_data['TimePeriod'] = df_hour_data['hr'].apply(categorize_time)\n",
        "\n",
        "# Kelompokkan data berdasarkan TimePeriod dan Holiday\n",
        "time_period_clusters = df_hour_data.groupby(['TimePeriod', 'holiday']).agg({\n",
        "    'casual': 'mean',\n",
        "    'registered': 'mean'\n",
        "}).reset_index()\n",
        "\n",
        "# Visualisasi\n",
        "fig, ax = plt.subplots(figsize=(12, 7))\n",
        "\n",
        "bar_width = 0.35  # Bar width\n",
        "index = np.arange(len(time_period_clusters['TimePeriod'].unique()))\n",
        "\n",
        "# Warna utk holiday dan non-holiday\n",
        "holiday_casual_color = '#004c6d'\n",
        "non_holiday_casual_color = '#5886a5'\n",
        "holiday_registered_color = '#488f31'\n",
        "non_holiday_registered_color = '#80ad6d'\n",
        "\n",
        "# Filter data utk setiap kategori\n",
        "holiday_data = time_period_clusters[time_period_clusters['holiday'] == 1]\n",
        "non_holiday_data = time_period_clusters[time_period_clusters['holiday'] == 0]\n",
        "\n",
        "# Plot stacked bars utk pengguna casual\n",
        "ax.bar(index,\n",
        "       holiday_data['casual'],\n",
        "       bar_width, label='Casual (Holiday)', color=holiday_casual_color)\n",
        "\n",
        "ax.bar(index,\n",
        "       non_holiday_data['casual'],\n",
        "       bar_width, bottom=holiday_data['casual'], label='Casual (Non-Holiday)', color=non_holiday_casual_color)\n",
        "\n",
        "# Plot stacked bars utk pengguna registered\n",
        "ax.bar(index + bar_width,\n",
        "       holiday_data['registered'],\n",
        "       bar_width, label='Registered (Holiday)', color=holiday_registered_color)\n",
        "\n",
        "ax.bar(index + bar_width,\n",
        "       non_holiday_data['registered'],\n",
        "       bar_width, bottom=holiday_data['registered'], label='Registered (Non-Holiday)', color=non_holiday_registered_color)\n",
        "\n",
        "# Label dan Legenda\n",
        "ax.set_xlabel('Time Period')\n",
        "ax.set_ylabel('Average Rentals')\n",
        "ax.set_title('Rata-rata sewa menurut Periode Waktu ( Casual vs Registered)')\n",
        "ax.set_xticks(index + bar_width / 2)  # Center labels between bars\n",
        "ax.set_xticklabels(['Morning', 'Afternoon', 'Evening', 'Night'])\n",
        "ax.legend()\n",
        "\n",
        "plt.tight_layout()\n",
        "plt.show()"
      ],
      "metadata": {
        "trusted": true,
        "execution": {
          "iopub.status.busy": "2024-12-22T05:43:05.948621Z",
          "iopub.execute_input": "2024-12-22T05:43:05.94916Z",
          "iopub.status.idle": "2024-12-22T05:43:06.252985Z",
          "shell.execute_reply.started": "2024-12-22T05:43:05.949114Z",
          "shell.execute_reply": "2024-12-22T05:43:06.251721Z"
        },
        "id": "gFylzKqEIgSH"
      },
      "outputs": [],
      "execution_count": null
    },
    {
      "cell_type": "markdown",
      "source": [
        "***Insight :***\n",
        "\n",
        "- Di semua kategori, kontribusi pengguna terdaftar lebih signifikan dibandingkan pengguna biasa, baik pada hari libur maupun hari kerja.\n",
        "- Pada kategori \"Malam\", jumlah penyewaan sepeda (baik pengguna biasa maupun terdaftar) merupakan yang tertinggi dibandingkan periode lainnya.\n",
        "- Penyewaan sepeda dalam kategori \"Pagi\" menunjukkan aktivitas yang lebih rendah dibandingkan periode waktu lainnya.\n",
        "- Bagi pengguna biasa, harga sewa cenderung lebih tinggi selama liburan di semua periode waktu.\n",
        "- Bagi pengguna terdaftar, penyewaan lebih dominan terjadi pada hari kerja (bukan hari libur), terutama pada kategori \"Sore\" dan \"Malam\"."
      ],
      "metadata": {
        "id": "bu4irthnLYnR"
      }
    },
    {
      "cell_type": "markdown",
      "source": [
        "# Kesimpulan & Rekomendasi\n",
        "***1. Q1 (Pola Sewa Selisih)***\n",
        "\n",
        "- Data ini menunjukkan pentingnya layanan sepeda sebagai alat transportasi harian bagi pengguna terdaftar, sedangkan bagi pengguna kasual, sepeda sebagian besar digunakan untuk kegiatan rekreasi.\n",
        "- Meningkatkan fasilitas dan ketersediaan sepeda pada hari kerja mungkin lebih penting untuk memenuhi kebutuhan pengguna terdaftar.\n",
        "- Pada akhir pekan, berfokus pada pengguna biasa, seperti melalui promosi atau kampanye wisata bersepeda, dapat menarik lebih banyak pengguna.\n",
        "\n",
        "***2. Q2 (Sewa sepeda tertinggi per jam)***\n",
        "\n",
        "- Pengguna terdaftar mendominasi penyewaan selama jam sibuk (pagi dan sore), yang menunjukkan penggunaan layanan sebagai alat transportasi utama.\n",
        "- Pengguna biasa memiliki volume penyewaan yang jauh lebih rendah daripada pengguna terdaftar tetapi tetap konsisten sepanjang hari.\n",
        "- Perbedaan pola ini menunjukkan bahwa pengguna terdaftar lebih terikat pada jadwal harian (misalnya, bekerja atau sekolah), sementara pengguna biasa lebih fleksibel dalam memilih waktu sewa.\n",
        "- Untuk memberikan layanan optimal kepada pengguna terdaftar, ketersediaan sepeda selama jam sibuk (pagi dan sore) sangat penting.\n",
        "- Bagi pengguna biasa, promosi dan layanan tambahan di malam hari atau akhir pekan dapat membantu meningkatkan jumlah penyewaan.\n",
        "\n",
        "***3. Q3 (Anomali berdasarkan lonjakan atau penurunan tiba-tiba)***\n",
        "\n",
        "- Cuaca cerah cenderung meningkatkan persewaan meskipun ada anomali, sementara cuaca buruk menurunkan persewaan.\n",
        "- Kecepatan angin memiliki sedikit pengaruh, hanya bila dikombinasikan dengan kondisi cuaca tertentu.\n",
        "\n",
        "***Kesimpulan Analisis Pengelompokan Berbasis Waktu***\n",
        "\n",
        "- Periode sore dan malam hari merupakan periode yang paling banyak digunakan, terutama oleh pengguna terdaftar. Oleh karena itu, promosi yang menyasar kelompok ini sebaiknya dilakukan pada periode ini.\n",
        "- Untuk meningkatkan penggunaan di pagi hari, promosi khusus seperti diskon pagi dapat diterapkan.\n",
        "- Selama liburan, pengguna kasual mendominasi. Ini menunjukkan bahwa promosi yang ditujukan kepada wisatawan atau kegiatan rekreasi dapat efektif selama periode ini.\n",
        "- Menambah atau mendistribusikan lebih banyak sepeda pada sore dan malam hari dapat membantu mengatasi lonjakan permintaan selama periode tersebut.\n",
        "- Untuk hari kerja (bukan hari libur), fokus pada pengguna terdaftar dapat mencakup program loyalitas atau layanan tambahan untuk meningkatkan pengalaman pelanggan.\n",
        "- Pengguna terdaftar lebih dominan pada hari kerja, yang menunjukkan bahwa layanan tersebut merupakan bagian dari rutinitas mereka. Memperkenalkan layanan tambahan, seperti rute premium atau paket langganan bulanan, dapat meningkatkan kepuasan pengguna."
      ],
      "metadata": {
        "id": "Lx6I2IFqLuGz"
      }
    }
  ],
  "metadata": {
    "kernelspec": {
      "display_name": "Python 3",
      "language": "python",
      "name": "python3"
    },
    "language_info": {
      "name": "python",
      "version": "3.8.0 (tags/v3.8.0:fa919fd, Oct 14 2019, 19:21:23) [MSC v.1916 32 bit (Intel)]"
    },
    "orig_nbformat": 4,
    "vscode": {
      "interpreter": {
        "hash": "972b3bf27e332e87b5379f2791f6ef9dfc79c71018c370b0d7423235e20fe4d7"
      }
    },
    "colab": {
      "provenance": []
    }
  },
  "nbformat": 4,
  "nbformat_minor": 0
}